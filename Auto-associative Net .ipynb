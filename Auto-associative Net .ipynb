{
 "cells": [
  {
   "cell_type": "markdown",
   "id": "e7b86c77",
   "metadata": {},
   "source": [
    "# Q2\n",
    "## Preprocessing"
   ]
  },
  {
   "cell_type": "code",
   "execution_count": 1,
   "id": "d6566bb9",
   "metadata": {},
   "outputs": [],
   "source": [
    "from PIL import Image\n",
    "import numpy as np\n",
    "from matplotlib import pyplot as plt\n",
    "import random\n",
    "import copy"
   ]
  },
  {
   "cell_type": "code",
   "execution_count": 2,
   "id": "3ef29f9f",
   "metadata": {},
   "outputs": [
    {
     "name": "stderr",
     "output_type": "stream",
     "text": [
      "Clipping input data to the valid range for imshow with RGB data ([0..1] for floats or [0..255] for integers).\n",
      "Clipping input data to the valid range for imshow with RGB data ([0..1] for floats or [0..255] for integers).\n",
      "Clipping input data to the valid range for imshow with RGB data ([0..1] for floats or [0..255] for integers).\n"
     ]
    },
    {
     "data": {
      "image/png": "[encoded data removed]",
      "text/plain": [
       "<Figure size 432x288 with 1 Axes>"
      ]
     },
     "metadata": {
      "needs_background": "light"
     },
     "output_type": "display_data"
    },
    {
     "data": {
      "image/png": "[encoded data removed]",
      "text/plain": [
       "<Figure size 432x288 with 1 Axes>"
      ]
     },
     "metadata": {
      "needs_background": "light"
     },
     "output_type": "display_data"
    },
    {
     "data": {
      "image/png": "[encoded data removed]",
      "text/plain": [
       "<Figure size 432x288 with 1 Axes>"
      ]
     },
     "metadata": {
      "needs_background": "light"
     },
     "output_type": "display_data"
    }
   ],
   "source": [
    "#reading images\n",
    "im1 = Image.open('Images_Q2/Image_1.png', 'r')\n",
    "im2 = Image.open('Images_Q2/Image_2.png', 'r')\n",
    "im3 = Image.open('Images_Q2/Image_3.png', 'r')\n",
    "\n",
    "def manage_image(pix_vals):\n",
    "    for i in range(len(pix_vals)):\n",
    "        pix_vals[i] = (pix_vals[i][0], pix_vals[i][1], pix_vals[i][2])\n",
    "\n",
    "#getting data\n",
    "pix_val1 = list(im1.getdata())\n",
    "pix_val2 = list(im2.getdata())\n",
    "manage_image(pix_val2)\n",
    "pix_val3 = list(im3.getdata())\n",
    "manage_image(pix_val3)\n",
    "\n",
    "#function for assigning 1 to black and -1 to white\n",
    "def rgb_to_num(vector_):\n",
    "    vector = copy.deepcopy(vector_)\n",
    "    result = np.zeros(shape=(35))\n",
    "    for i in range(len(vector)):\n",
    "        if vector[i] == (255,255,255):\n",
    "            result[i] = -1\n",
    "        elif vector[i] == (0,0,0):\n",
    "            result[i] = 1\n",
    "    return result\n",
    "\n",
    "def num_to_rgb(vector_):\n",
    "    vector = copy.deepcopy(vector_)\n",
    "    result = np.zeros(shape=(35,3))\n",
    "    for i in range(len(vector)):\n",
    "        if vector[i] == -1:\n",
    "            result[i] = (255,255,255)\n",
    "        elif vector[i] == 1:\n",
    "            result[i] = (0,0,0)\n",
    "    return result\n",
    "\n",
    "def show_image(vector_):\n",
    "    vector = num_to_rgb(vector_)\n",
    "    result = np.zeros(shape=(7,5,3))\n",
    "    for i in range(7):\n",
    "        for j in range(5):\n",
    "            result[i][j] = vector[i*5+j]\n",
    "    plt.figure()\n",
    "    plt.imshow([list(i) for i in result])\n",
    "\n",
    "im_vector_1 = rgb_to_num(pix_val1)\n",
    "im_vector_2 = rgb_to_num(pix_val2)\n",
    "im_vector_3 = rgb_to_num(pix_val3)\n",
    "\n",
    "#displaying image\n",
    "show_image(im_vector_1)\n",
    "show_image(im_vector_2)\n",
    "show_image(im_vector_3)"
   ]
  },
  {
   "cell_type": "markdown",
   "id": "27b35a35",
   "metadata": {},
   "source": [
    "# Part 1\n",
    "## Hebbian Learning Rule"
   ]
  },
  {
   "cell_type": "code",
   "execution_count": 3,
   "id": "4a2ca818",
   "metadata": {},
   "outputs": [
    {
     "data": {
      "text/plain": [
       "(35, 35)"
      ]
     },
     "execution_count": 3,
     "metadata": {},
     "output_type": "execute_result"
    }
   ],
   "source": [
    "weight_vector = np.zeros((len(im_vector_1),len(im_vector_1)))\n",
    "def update_weight(im_vector_):\n",
    "    for i in range(len(im_vector_)):\n",
    "        for j in range(len(im_vector_)):\n",
    "            weight_vector[i][j] += im_vector_[i]*im_vector_[j]\n",
    "        \n",
    "update_weight(im_vector_1)\n",
    "update_weight(im_vector_2)\n",
    "update_weight(im_vector_3)\n",
    "\n",
    "weight_vector.shape"
   ]
  },
  {
   "cell_type": "code",
   "execution_count": 4,
   "id": "2243b276",
   "metadata": {},
   "outputs": [
    {
     "name": "stdout",
     "output_type": "stream",
     "text": [
      "Hebbian Learning Rule:\n",
      " [[ 3. -1. -3. ... -3. -3.  1.]\n",
      " [-1.  3.  1. ...  1.  1.  1.]\n",
      " [-3.  1.  3. ...  3.  3. -1.]\n",
      " ...\n",
      " [-3.  1.  3. ...  3.  3. -1.]\n",
      " [-3.  1.  3. ...  3.  3. -1.]\n",
      " [ 1.  1. -1. ... -1. -1.  3.]]\n"
     ]
    }
   ],
   "source": [
    "print('Hebbian Learning Rule:\\n', weight_vector)"
   ]
  },
  {
   "cell_type": "markdown",
   "id": "33026766",
   "metadata": {},
   "source": [
    "## Modified Hebbian Learning Rule"
   ]
  },
  {
   "cell_type": "code",
   "execution_count": 5,
   "id": "8a715d9c",
   "metadata": {},
   "outputs": [
    {
     "name": "stdout",
     "output_type": "stream",
     "text": [
      "Modified Hebbian Learning Rule:\n",
      " [[ 0. -1. -3. ... -3. -3.  1.]\n",
      " [-1.  0.  1. ...  1.  1.  1.]\n",
      " [-3.  1.  0. ...  3.  3. -1.]\n",
      " ...\n",
      " [-3.  1.  3. ...  0.  3. -1.]\n",
      " [-3.  1.  3. ...  3.  0. -1.]\n",
      " [ 1.  1. -1. ... -1. -1.  0.]]\n"
     ]
    }
   ],
   "source": [
    "P = 3\n",
    "weight_vector_modified = weight_vector - P*np.eye(len(im_vector_1), dtype=int)\n",
    "print('Modified Hebbian Learning Rule:\\n', weight_vector_modified)"
   ]
  },
  {
   "cell_type": "markdown",
   "id": "51bb97c5",
   "metadata": {},
   "source": [
    "# Part 2"
   ]
  },
  {
   "cell_type": "code",
   "execution_count": 6,
   "id": "57cdfcf7",
   "metadata": {},
   "outputs": [
    {
     "name": "stderr",
     "output_type": "stream",
     "text": [
      "Clipping input data to the valid range for imshow with RGB data ([0..1] for floats or [0..255] for integers).\n",
      "Clipping input data to the valid range for imshow with RGB data ([0..1] for floats or [0..255] for integers).\n"
     ]
    },
    {
     "name": "stdout",
     "output_type": "stream",
     "text": [
      "Image 1:\n",
      "First image is the predicted one and second is the real one\n",
      "Predicted Correctly\n"
     ]
    },
    {
     "data": {
      "image/png": "[encoded data removed]",
      "text/plain": [
       "<Figure size 432x288 with 1 Axes>"
      ]
     },
     "metadata": {
      "needs_background": "light"
     },
     "output_type": "display_data"
    },
    {
     "data": {
      "image/png": "[encoded data removed]",
      "text/plain": [
       "<Figure size 432x288 with 1 Axes>"
      ]
     },
     "metadata": {
      "needs_background": "light"
     },
     "output_type": "display_data"
    }
   ],
   "source": [
    "def my_sign(x):\n",
    "    if x>=0:\n",
    "        return 1\n",
    "    else:\n",
    "        return -1\n",
    "    \n",
    "def predict(input_):\n",
    "    input__ = copy.deepcopy(input_)\n",
    "    ans = np.matmul(np.transpose(input__), weight_vector)\n",
    "    for i in range(len(ans)):\n",
    "        ans[i] = my_sign(ans[i])\n",
    "    return ans\n",
    "# print('real image:')\n",
    "# show_image(im_vector_2)\n",
    "# show_image(im_vector_3)\n",
    "\n",
    "print('Image 1:')\n",
    "ans = predict(im_vector_1)\n",
    "print('First image is the predicted one and second is the real one')\n",
    "show_image(ans)\n",
    "show_image(im_vector_1)\n",
    "if list(ans) == list(im_vector_1):\n",
    "    print('Predicted Correctly')\n",
    "else:\n",
    "    print('Predicted Wrong')"
   ]
  },
  {
   "cell_type": "code",
   "execution_count": 7,
   "id": "ee9b0271",
   "metadata": {},
   "outputs": [
    {
     "name": "stderr",
     "output_type": "stream",
     "text": [
      "Clipping input data to the valid range for imshow with RGB data ([0..1] for floats or [0..255] for integers).\n",
      "Clipping input data to the valid range for imshow with RGB data ([0..1] for floats or [0..255] for integers).\n"
     ]
    },
    {
     "name": "stdout",
     "output_type": "stream",
     "text": [
      "Image 2:\n",
      "First image is the predicted one and second is the real one\n",
      "Predicted Correctly\n"
     ]
    },
    {
     "data": {
      "image/png": "[encoded data removed]",
      "text/plain": [
       "<Figure size 432x288 with 1 Axes>"
      ]
     },
     "metadata": {
      "needs_background": "light"
     },
     "output_type": "display_data"
    },
    {
     "data": {
      "image/png": "[encoded data removed]",
      "text/plain": [
       "<Figure size 432x288 with 1 Axes>"
      ]
     },
     "metadata": {
      "needs_background": "light"
     },
     "output_type": "display_data"
    }
   ],
   "source": [
    "print('Image 2:')\n",
    "ans = predict(im_vector_2)\n",
    "print('First image is the predicted one and second is the real one')\n",
    "show_image(ans)\n",
    "show_image(im_vector_2)\n",
    "if list(ans) == list(im_vector_2):\n",
    "    print('Predicted Correctly')\n",
    "else:\n",
    "    print('Predicted Wrong')"
   ]
  },
  {
   "cell_type": "code",
   "execution_count": 8,
   "id": "1e58122f",
   "metadata": {},
   "outputs": [
    {
     "name": "stderr",
     "output_type": "stream",
     "text": [
      "Clipping input data to the valid range for imshow with RGB data ([0..1] for floats or [0..255] for integers).\n",
      "Clipping input data to the valid range for imshow with RGB data ([0..1] for floats or [0..255] for integers).\n"
     ]
    },
    {
     "name": "stdout",
     "output_type": "stream",
     "text": [
      "Image 3:\n",
      "First image is the predicted one and second is the real one\n",
      "Predicted Correctly\n"
     ]
    },
    {
     "data": {
      "image/png": "[encoded data removed]",
      "text/plain": [
       "<Figure size 432x288 with 1 Axes>"
      ]
     },
     "metadata": {
      "needs_background": "light"
     },
     "output_type": "display_data"
    },
    {
     "data": {
      "image/png": "[encoded data removed]",
      "text/plain": [
       "<Figure size 432x288 with 1 Axes>"
      ]
     },
     "metadata": {
      "needs_background": "light"
     },
     "output_type": "display_data"
    }
   ],
   "source": [
    "print('Image 3:')\n",
    "ans = predict(im_vector_3)\n",
    "print('First image is the predicted one and second is the real one')\n",
    "show_image(ans)\n",
    "show_image(im_vector_3)\n",
    "if list(ans) == list(im_vector_3):\n",
    "    print('Predicted Correctly')\n",
    "else:\n",
    "    print('Predicted Wrong')"
   ]
  },
  {
   "cell_type": "markdown",
   "id": "b699348f",
   "metadata": {},
   "source": [
    "# Part 3\n",
    "### Adding noise to inputs"
   ]
  },
  {
   "cell_type": "code",
   "execution_count": 9,
   "id": "0f178829",
   "metadata": {},
   "outputs": [],
   "source": [
    "def add_noise(im_vector__, noise):\n",
    "    im_vector_ = copy.deepcopy(im_vector__)\n",
    "    for i in range(len(im_vector_)):\n",
    "        rand = random.random()\n",
    "        if rand < noise:\n",
    "            im_vector_[i] *= -1\n",
    "    return im_vector_\n",
    "\n",
    "def reset_inputs():\n",
    "    im_vector_1 = rgb_to_num(pix_val1)\n",
    "    im_vector_2 = rgb_to_num(pix_val2)\n",
    "    im_vector_3 = rgb_to_num(pix_val3)\n",
    "    return im_vector_1, im_vector_2, im_vector_3"
   ]
  },
  {
   "cell_type": "code",
   "execution_count": 10,
   "id": "0f3425a9",
   "metadata": {},
   "outputs": [
    {
     "name": "stdout",
     "output_type": "stream",
     "text": [
      "First Image:\n",
      "Noise: 20.0 %\n",
      "Accuracy: 90.26 %\n",
      "\n",
      "Noise: 80.0 %\n",
      "Accuracy: 0.0 %\n",
      "\n"
     ]
    }
   ],
   "source": [
    "#1\n",
    "noises = [0.2, 0.8]\n",
    "print('First Image:')\n",
    "for noise in noises:\n",
    "    winning_num = 0\n",
    "    for _ in range(10000):\n",
    "        im_vector_1, im_vector_2, im_vector_3 = reset_inputs()\n",
    "        added_noise = add_noise(im_vector_1, noise)\n",
    "        ans = predict(added_noise)\n",
    "        if list(ans) == list(im_vector_1):\n",
    "            winning_num += 1\n",
    "    print('Noise:', noise*100, '%')\n",
    "    print('Accuracy:', winning_num/100,'%')\n",
    "    print('')"
   ]
  },
  {
   "cell_type": "code",
   "execution_count": 11,
   "id": "443d4a49",
   "metadata": {},
   "outputs": [
    {
     "name": "stdout",
     "output_type": "stream",
     "text": [
      "Second Image:\n",
      "Noise: 20.0 %\n",
      "Accuracy: 95.75 %\n",
      "\n",
      "Noise: 80.0 %\n",
      "Accuracy: 0.0 %\n",
      "\n"
     ]
    }
   ],
   "source": [
    "#2\n",
    "print('Second Image:')\n",
    "for noise in noises:\n",
    "    winning_num = 0\n",
    "    for _ in range(10000):\n",
    "        im_vector_1, im_vector_2, im_vector_3 = reset_inputs()\n",
    "        added_noise = add_noise(im_vector_2, noise)\n",
    "        ans = predict(added_noise)\n",
    "        if list(ans) == list(im_vector_2):\n",
    "            winning_num += 1\n",
    "    print('Noise:', noise*100, '%')\n",
    "    print('Accuracy:', winning_num/100,'%')\n",
    "    print('')"
   ]
  },
  {
   "cell_type": "code",
   "execution_count": 12,
   "id": "d1116311",
   "metadata": {},
   "outputs": [
    {
     "name": "stdout",
     "output_type": "stream",
     "text": [
      "Third Image:\n",
      "Noise: 20.0 %\n",
      "Accuracy: 89.85 %\n",
      "\n",
      "Noise: 80.0 %\n",
      "Accuracy: 0.0 %\n",
      "\n"
     ]
    }
   ],
   "source": [
    "#3\n",
    "print('Third Image:')\n",
    "for noise in noises:\n",
    "    winning_num = 0\n",
    "    for _ in range(10000):\n",
    "        im_vector_1, im_vector_2, im_vector_3 = reset_inputs()\n",
    "        added_noise = add_noise(im_vector_3, noise)\n",
    "        ans = predict(added_noise)\n",
    "        if list(ans) == list(im_vector_3):\n",
    "            winning_num += 1\n",
    "    print('Noise:', noise*100, '%')\n",
    "    print('Accuracy:', winning_num/100,'%')\n",
    "    print('')"
   ]
  },
  {
   "cell_type": "markdown",
   "id": "66160bda",
   "metadata": {},
   "source": [
    "# Part 4\n",
    "### Removing Data"
   ]
  },
  {
   "cell_type": "code",
   "execution_count": 13,
   "id": "de21eafd",
   "metadata": {},
   "outputs": [],
   "source": [
    "def remove_data(im_vector__, noise):\n",
    "    im_vector_ = copy.deepcopy(im_vector__)\n",
    "    for i in range(len(im_vector_)):\n",
    "        rand = random.random()\n",
    "        if rand < noise:\n",
    "            im_vector_[i] = 0\n",
    "    return im_vector_"
   ]
  },
  {
   "cell_type": "code",
   "execution_count": 15,
   "id": "0938b160",
   "metadata": {},
   "outputs": [
    {
     "name": "stdout",
     "output_type": "stream",
     "text": [
      "First Image:\n",
      "Noise: 20.0 %\n",
      "Accuracy: 99.98 %\n",
      "\n",
      "Noise: 80.0 %\n",
      "Accuracy: 69.88 %\n",
      "\n"
     ]
    }
   ],
   "source": [
    "#1\n",
    "noises = [0.2, 0.8]\n",
    "print('First Image:')\n",
    "for noise in noises:\n",
    "    winning_num = 0\n",
    "    for _ in range(10000):\n",
    "        im_vector_1, im_vector_2, im_vector_3 = reset_inputs()\n",
    "        added_noise = remove_data(im_vector_1, noise)\n",
    "        ans = predict(added_noise)\n",
    "        if list(ans) == list(im_vector_1):\n",
    "            winning_num += 1\n",
    "    print('Noise:', noise*100, '%')\n",
    "    print('Accuracy:', winning_num/100,'%')\n",
    "    print('')"
   ]
  },
  {
   "cell_type": "code",
   "execution_count": 18,
   "id": "6452d0ed",
   "metadata": {},
   "outputs": [
    {
     "name": "stdout",
     "output_type": "stream",
     "text": [
      "Second Image:\n",
      "Noise: 20.0 %\n",
      "Accuracy: 100.0 %\n",
      "\n",
      "Noise: 80.0 %\n",
      "Accuracy: 83.79 %\n",
      "\n"
     ]
    }
   ],
   "source": [
    "#2\n",
    "print('Second Image:')\n",
    "for noise in noises:\n",
    "    winning_num = 0\n",
    "    for _ in range(10000):\n",
    "        im_vector_1, im_vector_2, im_vector_3 = reset_inputs()\n",
    "        added_noise = remove_data(im_vector_2, noise)\n",
    "        ans = predict(added_noise)\n",
    "        if list(ans) == list(im_vector_2):\n",
    "            winning_num += 1\n",
    "    print('Noise:', noise*100, '%')\n",
    "    print('Accuracy:', winning_num/100,'%')\n",
    "    print('')"
   ]
  },
  {
   "cell_type": "code",
   "execution_count": 19,
   "id": "137d1b74",
   "metadata": {},
   "outputs": [
    {
     "name": "stdout",
     "output_type": "stream",
     "text": [
      "Third Image:\n",
      "Noise: 20.0 %\n",
      "Accuracy: 99.97 %\n",
      "\n",
      "Noise: 80.0 %\n",
      "Accuracy: 74.57 %\n",
      "\n"
     ]
    }
   ],
   "source": [
    "#3\n",
    "print('Third Image:')\n",
    "for noise in noises:\n",
    "    winning_num = 0\n",
    "    for _ in range(10000):\n",
    "        im_vector_1, im_vector_2, im_vector_3 = reset_inputs()\n",
    "        added_noise = remove_data(im_vector_3, noise)\n",
    "        ans = predict(added_noise)\n",
    "        if list(ans) == list(im_vector_3):\n",
    "            winning_num += 1\n",
    "    print('Noise:', noise*100, '%')\n",
    "    print('Accuracy:', winning_num/100,'%')\n",
    "    print('')"
   ]
  },
  {
   "cell_type": "code",
   "execution_count": null,
   "id": "f9d7f0b7",
   "metadata": {},
   "outputs": [],
   "source": []
  }
 ],
 "metadata": {
  "kernelspec": {
   "display_name": "Python 3 (ipykernel)",
   "language": "python",
   "name": "python3"
  },
  "language_info": {
   "codemirror_mode": {
    "name": "ipython",
    "version": 3
   },
   "file_extension": ".py",
   "mimetype": "text/x-python",
   "name": "python",
   "nbconvert_exporter": "python",
   "pygments_lexer": "ipython3",
   "version": "3.9.7"
  }
 },
 "nbformat": 4,
 "nbformat_minor": 5
}
